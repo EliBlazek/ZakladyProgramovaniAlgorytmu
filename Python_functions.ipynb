{
 "cells": [
  {
   "cell_type": "markdown",
   "metadata": {},
   "source": [
    "# Python funkce \n",
    "I finally gave in to the convinience of Python notebooks. Because I dont want to wrap my code snippets into functions into main file..."
   ]
  },
  {
   "cell_type": "markdown",
   "metadata": {},
   "source": [
    "### Intro to functions - excercises"
   ]
  },
  {
   "cell_type": "code",
   "execution_count": 3,
   "metadata": {
    "tags": []
   },
   "outputs": [
    {
     "output_type": "stream",
     "name": "stdout",
     "text": "2.0\n"
    }
   ],
   "source": [
    "def my_custom_division(a, b):\n",
    "    my_result = a/b\n",
    "    print(my_result)\n",
    "    \n",
    "my_custom_division(4,2)"
   ]
  },
  {
   "cell_type": "code",
   "execution_count": 4,
   "metadata": {
    "tags": []
   },
   "outputs": [
    {
     "output_type": "stream",
     "name": "stdout",
     "text": "37\n"
    }
   ],
   "source": [
    "def my_custom_sum():\n",
    "    usr_values=[]\n",
    "\n",
    "    while True: \n",
    "        x = input(\"Put your value here. Write 'done' when you want to see sum \")\n",
    "        if x == 'done':\n",
    "            break\n",
    "        else: \n",
    "            usr_values.append(int(x))\n",
    "            continue\n",
    "    result = sum(usr_values)\n",
    "    print(result)\n",
    "\n",
    "my_custom_sum()"
   ]
  },
  {
   "cell_type": "markdown",
   "metadata": {},
   "source": [
    "### Introduction to lambda functions"
   ]
  },
  {
   "cell_type": "code",
   "execution_count": 5,
   "metadata": {
    "tags": []
   },
   "outputs": [
    {
     "output_type": "stream",
     "name": "stdout",
     "text": "Big\nsmol\n"
    }
   ],
   "source": [
    "big_test_list = [3,4,5,6,8,5]\n",
    "small_test_list = [134, 51, 16]\n",
    "\n",
    "g = lambda x : print(\"smol\") if len(x) < 5 else print(\"Big\")\n",
    "\n",
    "g(big_test_list)\n",
    "g(small_test_list)"
   ]
  },
  {
   "cell_type": "markdown",
   "metadata": {},
   "source": [
    "### More advanced work with functions"
   ]
  },
  {
   "cell_type": "code",
   "execution_count": 6,
   "metadata": {
    "tags": []
   },
   "outputs": [
    {
     "output_type": "stream",
     "name": "stdout",
     "text": "input:  Lorem ipsum dolor sit amet, consectetur adipiscing elit. Vestibulum consectetur nibh ex, quis pretium risus faucibus eu. Ut placerat lorem vel sapien vestibulum consequat. Aliquam sit amet lacinia turpis, eget congue orci. Nulla faucibus, massa sed ultricies consectetur, arcu massa aliquam ante, id egestas ligula ligula ornare nunc. Mauris euismod, lorem non maximus sagittis, sapien justo. \nUpper case:  6\nLower case:  387\n"
    }
   ],
   "source": [
    "my_lipsum_str = \"Lorem ipsum dolor sit amet, consectetur adipiscing elit. Vestibulum consectetur nibh ex, quis pretium risus faucibus eu. Ut placerat lorem vel sapien vestibulum consequat. Aliquam sit amet lacinia turpis, eget congue orci. Nulla faucibus, massa sed ultricies consectetur, arcu massa aliquam ante, id egestas ligula ligula ornare nunc. Mauris euismod, lorem non maximus sagittis, sapien justo. \"\n",
    "\n",
    "def num_of_letters(a):\n",
    "    num_upper = sum(1 for letter in a if letter.isupper()) #A thread that helped me: https://stackoverflow.com/questions/18129830/count-the-uppercase-letters-in-a-string-with-python \n",
    "    num_lower = len(a) - num_upper\n",
    "\n",
    "    print(\"input: \",a)\n",
    "    print(\"Upper case: \", num_upper)\n",
    "    print(\"Lower case: \",num_lower)\n",
    "\n",
    "    \n",
    "\n",
    "num_of_letters(my_lipsum_str) \n",
    "#Generated witl lipsum.com"
   ]
  },
  {
   "cell_type": "markdown",
   "metadata": {},
   "source": [
    "### Calculate price of food after using vouchers on it"
   ]
  },
  {
   "cell_type": "code",
   "execution_count": 7,
   "metadata": {
    "tags": []
   },
   "outputs": [
    {
     "output_type": "stream",
     "name": "stdout",
     "text": "You&#39;ll need 6 food vouchers and you will also need 56 czk in cash.\n"
    }
   ],
   "source": [
    "def meal_vouchers(food_cost, voucher_value):\n",
    "    if voucher_value > food_cost:\n",
    "        print(\"Pay in cash. No return on vouchers.\")\n",
    "    else:\n",
    "        num_vouchers = food_cost//voucher_value\n",
    "        pay_up = food_cost % voucher_value\n",
    "\n",
    "    text_out = f\"You'll need {num_vouchers} food vouchers and you will also need {pay_up} czk in cash.\"\n",
    "    print(text_out) #Is there a better way of using f string? Or do I really need to pass it as a variable?\n",
    "meal_vouchers(500, 74)"
   ]
  },
  {
   "cell_type": "markdown",
   "metadata": {},
   "source": [
    "### Intro to recursion"
   ]
  },
  {
   "cell_type": "code",
   "execution_count": 8,
   "metadata": {
    "tags": []
   },
   "outputs": [
    {
     "output_type": "stream",
     "name": "stdout",
     "text": "Yeah, works well enough.\n40320\n"
    }
   ],
   "source": [
    "from math import factorial\n",
    "from functools import lru_cache\n",
    "\n",
    "my_num = 8\n",
    "\n",
    "lru_cache(1000) #built-in cache. It should enhance performance. Idea is from Socratica https://www.youtube.com/watch?v=Qk0zUZW-U_M&t \n",
    "def my_custom_factorial(a):\n",
    "    my_counter = a \n",
    "    if a == 0:\n",
    "        return(1)\n",
    "    elif a > 9999:\n",
    "        print(\"Sorry, im not going to melt my processor. Go find a NASA computer.\")\n",
    "    else: \n",
    "        while my_counter >= 0: #To je prasárna, ten loop. \n",
    "            my_counter = my_counter - 1 \n",
    "            return a * (my_custom_factorial(a-1))\n",
    "\n",
    "my_result1 = (my_custom_factorial(my_num))\n",
    "\n",
    "def rate_functions(): #I was too lazy comparing numbers in terminal myself.\n",
    "    my_result2 = factorial(my_num) #I'd love to time it and see how my functions holds up to the default Python factorial. But I'm not sure what modul to use and how. \n",
    "    if my_result1 == my_result2:\n",
    "        print(\"Yeah, works well enough.\")\n",
    "        print(my_result1)\n",
    "    else: print(\"Faulty logic in your function\")\n",
    "\n",
    "rate_functions()\n"
   ]
  },
  {
   "cell_type": "code",
   "execution_count": null,
   "metadata": {},
   "outputs": [],
   "source": []
  }
 ],
 "metadata": {
  "kernelspec": {
   "display_name": "Python 3",
   "language": "python",
   "name": "python3"
  },
  "language_info": {
   "codemirror_mode": {
    "name": "ipython",
    "version": 3
   },
   "file_extension": ".py",
   "mimetype": "text/x-python",
   "name": "python",
   "nbconvert_exporter": "python",
   "pygments_lexer": "ipython3",
   "version": "3.8.6-final"
  }
 },
 "nbformat": 4,
 "nbformat_minor": 4
}